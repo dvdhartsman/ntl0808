{
 "cells": [
  {
   "cell_type": "code",
   "execution_count": 2,
   "metadata": {},
   "outputs": [
    {
     "name": "stdout",
     "output_type": "stream",
     "text": [
      "What is your name? Fred\n",
      "Well, Fred, this has been one heck of a day, hasn't it?\n"
     ]
    }
   ],
   "source": [
    "def reflection():\n",
    "    name = input(\"What is your name? \")\n",
    "    print(f\"Well, {name}, this has been one heck of a day, hasn't it?\")\n",
    "          \n",
    "reflection()"
   ]
  },
  {
   "cell_type": "code",
   "execution_count": 2,
   "metadata": {},
   "outputs": [
    {
     "name": "stdout",
     "output_type": "stream",
     "text": [
      "Knock knock\n",
      "who's there?\n",
      "Rita\n",
      "Rita who?\n",
      "Ri-ta book, you might learn something....\n"
     ]
    }
   ],
   "source": [
    "def joke():\n",
    "    print(\"Knock knock\")\n",
    "    print(\"who's there?\")\n",
    "    print(\"Rita\")\n",
    "    print(\"Rita who?\")\n",
    "    print(\"Ri-ta book, you might learn something....\")\n",
    "    \n",
    "joke()"
   ]
  },
  {
   "cell_type": "code",
   "execution_count": null,
   "metadata": {},
   "outputs": [],
   "source": []
  }
 ],
 "metadata": {
  "kernelspec": {
   "display_name": "Python 3",
   "language": "python",
   "name": "python3"
  },
  "language_info": {
   "codemirror_mode": {
    "name": "ipython",
    "version": 3
   },
   "file_extension": ".py",
   "mimetype": "text/x-python",
   "name": "python",
   "nbconvert_exporter": "python",
   "pygments_lexer": "ipython3",
   "version": "3.8.5"
  }
 },
 "nbformat": 4,
 "nbformat_minor": 4
}
